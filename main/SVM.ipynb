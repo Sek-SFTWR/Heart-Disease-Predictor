{
 "cells": [
  {
   "cell_type": "code",
   "execution_count": 17,
   "metadata": {},
   "outputs": [],
   "source": [
    "from sklearn.model_selection import train_test_split\n",
    "from sklearn.svm import SVC\n",
    "from sklearn.metrics import accuracy_score\n",
    "import pandas as pd\n",
    "import pickle\n",
    "\n",
    "from sklearn.preprocessing import StandardScaler\n",
    "\n",
    "\n"
   ]
  },
  {
   "cell_type": "code",
   "execution_count": 18,
   "metadata": {},
   "outputs": [],
   "source": [
    "# File paths\n",
    "cleveland_path = \"../DataSet/preprocessed/preprocessed_cleveland.csv\"\n",
    "hungarian_path = \"../DataSet/preprocessed/preprocessed_hungarian.csv\"\n",
    "switzerland_path = \"../DataSet/preprocessed/preprocessed_switzerland.csv\"\n",
    "cleveland_data = pd.read_csv(cleveland_path)\n",
    "hungarian_data = pd.read_csv(hungarian_path)\n",
    "switzerland_data = pd.read_csv(switzerland_path)"
   ]
  },
  {
   "cell_type": "code",
   "execution_count": 21,
   "metadata": {},
   "outputs": [
    {
     "name": "stdout",
     "output_type": "stream",
     "text": [
      "Accuracy: 0.51\n",
      "Predicted by test datas : [2 0 2 0 0 3 2 3 0 0 0 0 1 2 2 0 0 3 3 0 1 0 3 0 3 0 0 1 1 0 0 1 0 0 0 0 1\n",
      " 0 3 0 2 0 2 0 0 2 0 0 1 1 0 0 0 0 3 0 0 1 1 3 0]\n"
     ]
    }
   ],
   "source": [
    "# Split the data into training and testing sets\n",
    "X = cleveland_data.drop('target', axis=1)\n",
    "y = cleveland_data['target']\n",
    "X_train, X_test, y_train, y_test = train_test_split(X, y, test_size=0.2, random_state=42)\n",
    "\n",
    "# Initialize and fit the model\n",
    "model = SVC(kernel='linear',random_state=42)\n",
    "model.fit(X_train, y_train)\n",
    "\n",
    "# Make predictions\n",
    "y_pred = model.predict(X_test)\n",
    "\n",
    "# Evaluate the model\n",
    "accuracy = accuracy_score(y_test, y_pred)\n",
    "print(f'Accuracy: {accuracy:.2f}')\n",
    "print(f'Predicted by test datas : {y_pred[:]}')"
   ]
  },
  {
   "cell_type": "code",
   "execution_count": 20,
   "metadata": {},
   "outputs": [
    {
     "name": "stdout",
     "output_type": "stream",
     "text": [
      "Accuracy: 0.90\n",
      "Predictions on test data: [0 0 0 1 1 0 0 1 0 0 0 0 1 1 0 1 0 1 0 0 1 1 1 0 1 0 0 0 0 0 1 1 1 0 0 0 0\n",
      " 1 1 1 0 1 0 0 1 0 1 1 0 0 1 0 0 0 0 0 0 0 1]\n",
      "Scaler saved to scaler.pkl and model saved to svm_model.pkl\n"
     ]
    }
   ],
   "source": [
    "X = hungarian_data.drop('target', axis=1)\n",
    "y = hungarian_data['target']\n",
    "\n",
    "# Split data into training and testing sets\n",
    "X_train, X_test, y_train, y_test = train_test_split(X, y, test_size=0.2, random_state=42)\n",
    "\n",
    "# Initialize and fit the scaler\n",
    "scaler = StandardScaler()\n",
    "X_train_scaled = scaler.fit_transform(X_train)\n",
    "X_test_scaled = scaler.transform(X_test)\n",
    "\n",
    "# Initialize and fit the model\n",
    "model = SVC(kernel='linear', class_weight='balanced', random_state=42)\n",
    "model.fit(X_train_scaled, y_train)\n",
    "\n",
    "# Evaluate the model\n",
    "y_pred = model.predict(X_test_scaled)\n",
    "accuracy = accuracy_score(y_test, y_pred)\n",
    "print(f'Accuracy: {accuracy:.2f}')\n",
    "print(f'Predictions on test data: {y_pred}')\n",
    "\n",
    "# Save the scaler and model to files\n",
    "with open(\"scaler.pkl\", \"wb\") as scaler_file:\n",
    "    pickle.dump(scaler, scaler_file)\n",
    "\n",
    "with open(\"svm_model.pkl\", \"wb\") as model_file:\n",
    "    pickle.dump(model, model_file)\n",
    "\n",
    "print(\"Scaler saved to scaler.pkl and model saved to svm_model.pkl\")"
   ]
  },
  {
   "cell_type": "code",
   "execution_count": null,
   "metadata": {},
   "outputs": [],
   "source": []
  },
  {
   "cell_type": "code",
   "execution_count": 5,
   "metadata": {},
   "outputs": [
    {
     "name": "stdout",
     "output_type": "stream",
     "text": [
      "Accuracy: 0.48\n",
      "Predicted by test datas : [1 2 1 1 2 1 1 3 1 1 1 1 2 3 1 2 1 1 1 0 1 1 1 3 1]\n"
     ]
    }
   ],
   "source": [
    "# Split the data into training and testing sets\n",
    "X = switzerland_data.drop('target', axis=1)\n",
    "y = switzerland_data['target']\n",
    "X_train, X_test, y_train, y_test = train_test_split(X, y, test_size=0.2, random_state=42)\n",
    "\n",
    "# Initialize and fit the model\n",
    "model = SVC(kernel='linear',random_state=42)\n",
    "model.fit(X_train, y_train)\n",
    "\n",
    "# Make predictions\n",
    "y_pred = model.predict(X_test)\n",
    "\n",
    "# Evaluate the model\n",
    "accuracy = accuracy_score(y_test, y_pred)\n",
    "print(f'Accuracy: {accuracy:.2f}')\n",
    "print(f'Predicted by test datas : {y_pred[:]}')"
   ]
  }
 ],
 "metadata": {
  "kernelspec": {
   "display_name": "venv",
   "language": "python",
   "name": "python3"
  },
  "language_info": {
   "codemirror_mode": {
    "name": "ipython",
    "version": 3
   },
   "file_extension": ".py",
   "mimetype": "text/x-python",
   "name": "python",
   "nbconvert_exporter": "python",
   "pygments_lexer": "ipython3",
   "version": "3.12.7"
  }
 },
 "nbformat": 4,
 "nbformat_minor": 2
}
