{
 "cells": [
  {
   "cell_type": "code",
   "execution_count": 1,
   "metadata": {},
   "outputs": [],
   "source": [
    "from sklearn.model_selection import train_test_split\n",
    "from sklearn.tree import DecisionTreeClassifier\n",
    "from sklearn.metrics import accuracy_score\n",
    "import pandas as pd\n",
    "\n"
   ]
  },
  {
   "cell_type": "code",
   "execution_count": 3,
   "metadata": {},
   "outputs": [],
   "source": [
    "# File paths\n",
    "cleveland_path = \"../DataSet/preprocessed/preprocessed_cleveland.csv\"\n",
    "hungarian_path = \"../DataSet/preprocessed/preprocessed_hungarian.csv\"\n",
    "switzerland_path = \"../DataSet/preprocessed/preprocessed_switzerland.csv\"\n",
    "cleveland_data = pd.read_csv(cleveland_path)\n",
    "hungarian_data = pd.read_csv(hungarian_path)\n",
    "switzerland_data = pd.read_csv(switzerland_path)"
   ]
  },
  {
   "cell_type": "code",
   "execution_count": null,
   "metadata": {},
   "outputs": [
    {
     "name": "stdout",
     "output_type": "stream",
     "text": [
      "Accuracy: 0.48\n",
      "Predicted by test datas : [0 0 2 2 1 4 4 1 0 3 0 0 0 1 0 0 0 3 3 0 0 0 3 0 2 0 2 3 2 1 0 3 0 0 0 1 2\n",
      " 0 3 0 2 0 1 0 2 1 0 0 0 0 1 0 0 0 3 0 1 1 2 4 1]\n"
     ]
    }
   ],
   "source": [
    "# Split the data into training and testing sets\n",
    "X = cleveland_data.drop('target', axis=1)\n",
    "y = cleveland_data['target']\n",
    "X_train, X_test, y_train, y_test = train_test_split(X, y, test_size=0.2, random_state=42)\n",
    "\n",
    "# Initialize and fit the model\n",
    "model = DecisionTreeClassifier(random_state=42)\n",
    "model.fit(X_train, y_train)\n",
    "\n",
    "# Make predictions\n",
    "y_pred = model.predict(X_test)\n",
    "\n",
    "# Evaluate the model\n",
    "accuracy = accuracy_score(y_test, y_pred)\n",
    "print(f'Accuracy: {accuracy:.2f}')\n",
    "print(f'Predicted by test datas : {y_pred[:]}')"
   ]
  },
  {
   "cell_type": "code",
   "execution_count": 5,
   "metadata": {},
   "outputs": [
    {
     "name": "stdout",
     "output_type": "stream",
     "text": [
      "Accuracy: 0.69\n",
      "Predicted by test datas : [0 0 0 1 1 0 0 0 0 0 1 0 0 1 0 1 0 1 0 0 1 0 1 0 1 1 0 1 0 0 1 1 0 1 0 0 0\n",
      " 0 0 0 0 1 1 0 1 0 1 1 0 0 1 0 0 0 0 1 1 0 1]\n"
     ]
    }
   ],
   "source": [
    "# Split the data into training and testing sets\n",
    "X = hungarian_data.drop('target', axis=1)\n",
    "y = hungarian_data['target']\n",
    "X_train, X_test, y_train, y_test = train_test_split(X, y, test_size=0.2, random_state=42)\n",
    "\n",
    "# Initialize and fit the model\n",
    "model = DecisionTreeClassifier(random_state=42)\n",
    "model.fit(X_train, y_train)\n",
    "\n",
    "# Make predictions\n",
    "y_pred = model.predict(X_test)\n",
    "\n",
    "# Evaluate the model\n",
    "accuracy = accuracy_score(y_test, y_pred)\n",
    "print(f'Accuracy: {accuracy:.2f}')\n",
    "print(f'Predicted by test datas : {y_pred[:]}')"
   ]
  },
  {
   "cell_type": "code",
   "execution_count": 6,
   "metadata": {},
   "outputs": [
    {
     "name": "stdout",
     "output_type": "stream",
     "text": [
      "Accuracy: 0.28\n",
      "Predicted by test datas : [1 2 2 3 3 0 2 3 3 2 2 4 1 1 1 2 2 2 1 0 4 2 2 3 1]\n"
     ]
    }
   ],
   "source": [
    "# Split the data into training and testing sets\n",
    "X = switzerland_data.drop('target', axis=1)\n",
    "y = switzerland_data['target']\n",
    "X_train, X_test, y_train, y_test = train_test_split(X, y, test_size=0.2, random_state=42)\n",
    "\n",
    "# Initialize and fit the model\n",
    "model = DecisionTreeClassifier(random_state=42)\n",
    "model.fit(X_train, y_train)\n",
    "\n",
    "# Make predictions\n",
    "y_pred = model.predict(X_test)\n",
    "\n",
    "# Evaluate the model\n",
    "accuracy = accuracy_score(y_test, y_pred)\n",
    "print(f'Accuracy: {accuracy:.2f}')\n",
    "print(f'Predicted by test datas : {y_pred[:]}')"
   ]
  }
 ],
 "metadata": {
  "kernelspec": {
   "display_name": "venv",
   "language": "python",
   "name": "python3"
  },
  "language_info": {
   "codemirror_mode": {
    "name": "ipython",
    "version": 3
   },
   "file_extension": ".py",
   "mimetype": "text/x-python",
   "name": "python",
   "nbconvert_exporter": "python",
   "pygments_lexer": "ipython3",
   "version": "3.12.7"
  }
 },
 "nbformat": 4,
 "nbformat_minor": 2
}
