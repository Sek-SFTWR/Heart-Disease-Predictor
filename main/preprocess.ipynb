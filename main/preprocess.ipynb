{
 "cells": [
  {
   "cell_type": "code",
   "execution_count": 3,
   "metadata": {},
   "outputs": [
    {
     "name": "stdout",
     "output_type": "stream",
     "text": [
      "Cleveland Data (Preprocessed):\n",
      "    age  sex   cp  trestbps   chol  fbs  restecg  thalach  exang  oldpeak  \\\n",
      "0  63.0  1.0  1.0     145.0  233.0  1.0      2.0    150.0    0.0      2.3   \n",
      "1  67.0  1.0  4.0     160.0  286.0  0.0      2.0    108.0    1.0      1.5   \n",
      "\n",
      "   slope   ca  thal  target  \n",
      "0    3.0  0.0   6.0       0  \n",
      "1    2.0  3.0   3.0       2  \n",
      "\n",
      "Hungarian Data (Preprocessed):\n",
      "   age  sex  cp  trestbps   chol  fbs  restecg  thalach  exang  oldpeak  \\\n",
      "0   28    1   2     130.0  132.0  0.0      2.0    185.0    0.0      0.0   \n",
      "1   29    1   2     120.0  243.0  0.0      0.0    160.0    0.0      0.0   \n",
      "\n",
      "      slope   ca      thal  target  \n",
      "0  1.894231  0.0  5.642857       0  \n",
      "1  1.894231  0.0  5.642857       0  \n",
      "\n",
      "Switzerland Data (Preprocessed):\n",
      "   age  sex  cp  trestbps  chol       fbs   restecg  thalach  exang  oldpeak  \\\n",
      "0   32    1   1      95.0     0  0.104167  0.000000    127.0    0.0      0.7   \n",
      "1   34    1   4     115.0     0  0.104167  0.360656    154.0    0.0      0.2   \n",
      "\n",
      "   slope   ca      thal  target  \n",
      "0    1.0  1.6  5.788732       1  \n",
      "1    1.0  1.6  5.788732       1  \n",
      "\n",
      "Preprocessed files have been saved to: ../../DataSet/preprocessed/\n"
     ]
    }
   ],
   "source": [
    "import pandas as pd\n",
    "import os\n",
    "\n",
    "# File paths\n",
    "cleveland_path = \"../../DataSet/original/processed/processed_cleveland.csv\"\n",
    "hungarian_path = \"../../DataSet/original/processed/processed_hungarian.csv\"\n",
    "switzerland_path = \"../../DataSet/original/processed/processed_switzerland.csv\"\n",
    "\n",
    "# Output folder path\n",
    "output_folder = \"../../DataSet/preprocessed/\"\n",
    "os.makedirs(output_folder, exist_ok=True)  # Create the folder if it doesn't exist\n",
    "\n",
    "# Load datasets\n",
    "cleveland_data = pd.read_csv(cleveland_path)\n",
    "hungarian_data = pd.read_csv(hungarian_path)\n",
    "switzerland_data = pd.read_csv(switzerland_path)\n",
    "\n",
    "# Define a function to preprocess datasets\n",
    "def preprocess_dataset(dataset):\n",
    "    numeric_dataset = dataset.apply(pd.to_numeric, errors=\"coerce\")\n",
    "    numeric_dataset.fillna(numeric_dataset.mean(), inplace=True)\n",
    "    return numeric_dataset\n",
    "\n",
    "# Preprocess datasets\n",
    "cleveland_data = preprocess_dataset(cleveland_data)\n",
    "hungarian_data = preprocess_dataset(hungarian_data)\n",
    "switzerland_data = preprocess_dataset(switzerland_data)\n",
    "\n",
    "# Save the preprocessed datasets\n",
    "cleveland_data.to_csv(os.path.join(output_folder, \"preprocessed_cleveland.csv\"), index=False)\n",
    "hungarian_data.to_csv(os.path.join(output_folder, \"preprocessed_hungarian.csv\"), index=False)\n",
    "switzerland_data.to_csv(os.path.join(output_folder, \"preprocessed_switzerland.csv\"), index=False)\n",
    "\n",
    "# Display results\n",
    "print(\"Cleveland Data (Preprocessed):\")\n",
    "print(cleveland_data.head(2))\n",
    "\n",
    "print(\"\\nHungarian Data (Preprocessed):\")\n",
    "print(hungarian_data.head(2))\n",
    "\n",
    "print(\"\\nSwitzerland Data (Preprocessed):\")\n",
    "print(switzerland_data.head(2))\n",
    "\n",
    "print(f\"\\nPreprocessed files have been saved to: {output_folder}\")\n"
   ]
  }
 ],
 "metadata": {
  "kernelspec": {
   "display_name": "Python 3",
   "language": "python",
   "name": "python3"
  },
  "language_info": {
   "codemirror_mode": {
    "name": "ipython",
    "version": 3
   },
   "file_extension": ".py",
   "mimetype": "text/x-python",
   "name": "python",
   "nbconvert_exporter": "python",
   "pygments_lexer": "ipython3",
   "version": "3.12.7"
  }
 },
 "nbformat": 4,
 "nbformat_minor": 2
}
